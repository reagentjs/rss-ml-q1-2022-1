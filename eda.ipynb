{
 "cells": [
  {
   "cell_type": "markdown",
   "id": "c22ebb6c",
   "metadata": {},
   "source": [
    "# Тема (Context)\n",
    "## Heading 2\n",
    "\n",
    "# Оценка качества данных (Data quality assessment)\n",
    "\n",
    "# Анализ данных (Data exploration)"
   ]
  },
  {
   "cell_type": "code",
   "execution_count": null,
   "id": "ec7159ed",
   "metadata": {},
   "outputs": [],
   "source": [
    "import pandas as pd\n",
    "train_data = pd.read_csv('./train.csv', index_col='PassengerId')\n",
    "train_data[0:3]"
   ]
  },
  {
   "cell_type": "markdown",
   "id": "046a3772",
   "metadata": {},
   "source": [
    "\n",
    "# Итог (Summary)"
   ]
  },
  {
   "cell_type": "code",
   "execution_count": null,
   "id": "fe1704d9",
   "metadata": {},
   "outputs": [],
   "source": [
    "print('HELLO WORLD')"
   ]
  }
 ],
 "metadata": {
  "kernelspec": {
   "display_name": "Python 3 (ipykernel)",
   "language": "python",
   "name": "python3"
  },
  "language_info": {
   "codemirror_mode": {
    "name": "ipython",
    "version": 3
   },
   "file_extension": ".py",
   "mimetype": "text/x-python",
   "name": "python",
   "nbconvert_exporter": "python",
   "pygments_lexer": "ipython3",
   "version": "3.10.1"
  }
 },
 "nbformat": 4,
 "nbformat_minor": 5
}
