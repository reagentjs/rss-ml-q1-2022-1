{
 "cells": [
  {
   "cell_type": "markdown",
   "id": "fe6d79ba",
   "metadata": {},
   "source": [
    "# 0. Тема (Context)\n",
    "Главная цель текущего анализа - оценить, от чего в основном зависит то, выжил человек или нет. Возможно, нам удастся посредством нахождения взаимосвязей выйти на какие-либо интересные факты.\n",
    "Первым делом загрузим и рассмотрим данные о пассажирах Титаника\n",
    "\n",
    "# 1. Оценка качества данных (Data quality assessment)\n",
    "Для оценки качества данных подключим датасет и рассмотрим первые 10 строк:"
   ]
  },
  {
   "cell_type": "code",
   "execution_count": 1,
   "id": "b17d04f8",
   "metadata": {},
   "outputs": [
    {
     "data": {
      "text/html": [
       "<div>\n",
       "<style scoped>\n",
       "    .dataframe tbody tr th:only-of-type {\n",
       "        vertical-align: middle;\n",
       "    }\n",
       "\n",
       "    .dataframe tbody tr th {\n",
       "        vertical-align: top;\n",
       "    }\n",
       "\n",
       "    .dataframe thead th {\n",
       "        text-align: right;\n",
       "    }\n",
       "</style>\n",
       "<table border=\"1\" class=\"dataframe\">\n",
       "  <thead>\n",
       "    <tr style=\"text-align: right;\">\n",
       "      <th></th>\n",
       "      <th>Survived</th>\n",
       "      <th>Pclass</th>\n",
       "      <th>Name</th>\n",
       "      <th>Sex</th>\n",
       "      <th>Age</th>\n",
       "      <th>SibSp</th>\n",
       "      <th>Parch</th>\n",
       "      <th>Ticket</th>\n",
       "      <th>Fare</th>\n",
       "      <th>Cabin</th>\n",
       "      <th>Embarked</th>\n",
       "    </tr>\n",
       "    <tr>\n",
       "      <th>PassengerId</th>\n",
       "      <th></th>\n",
       "      <th></th>\n",
       "      <th></th>\n",
       "      <th></th>\n",
       "      <th></th>\n",
       "      <th></th>\n",
       "      <th></th>\n",
       "      <th></th>\n",
       "      <th></th>\n",
       "      <th></th>\n",
       "      <th></th>\n",
       "    </tr>\n",
       "  </thead>\n",
       "  <tbody>\n",
       "    <tr>\n",
       "      <th>0</th>\n",
       "      <td>1</td>\n",
       "      <td>1</td>\n",
       "      <td>Oconnor, Frankie</td>\n",
       "      <td>male</td>\n",
       "      <td>NaN</td>\n",
       "      <td>2</td>\n",
       "      <td>0</td>\n",
       "      <td>209245</td>\n",
       "      <td>27.14</td>\n",
       "      <td>C12239</td>\n",
       "      <td>S</td>\n",
       "    </tr>\n",
       "    <tr>\n",
       "      <th>1</th>\n",
       "      <td>0</td>\n",
       "      <td>3</td>\n",
       "      <td>Bryan, Drew</td>\n",
       "      <td>male</td>\n",
       "      <td>NaN</td>\n",
       "      <td>0</td>\n",
       "      <td>0</td>\n",
       "      <td>27323</td>\n",
       "      <td>13.35</td>\n",
       "      <td>NaN</td>\n",
       "      <td>S</td>\n",
       "    </tr>\n",
       "    <tr>\n",
       "      <th>2</th>\n",
       "      <td>0</td>\n",
       "      <td>3</td>\n",
       "      <td>Owens, Kenneth</td>\n",
       "      <td>male</td>\n",
       "      <td>0.33</td>\n",
       "      <td>1</td>\n",
       "      <td>2</td>\n",
       "      <td>CA 457703</td>\n",
       "      <td>71.29</td>\n",
       "      <td>NaN</td>\n",
       "      <td>S</td>\n",
       "    </tr>\n",
       "    <tr>\n",
       "      <th>3</th>\n",
       "      <td>0</td>\n",
       "      <td>3</td>\n",
       "      <td>Kramer, James</td>\n",
       "      <td>male</td>\n",
       "      <td>19.00</td>\n",
       "      <td>0</td>\n",
       "      <td>0</td>\n",
       "      <td>A. 10866</td>\n",
       "      <td>13.04</td>\n",
       "      <td>NaN</td>\n",
       "      <td>S</td>\n",
       "    </tr>\n",
       "    <tr>\n",
       "      <th>4</th>\n",
       "      <td>1</td>\n",
       "      <td>3</td>\n",
       "      <td>Bond, Michael</td>\n",
       "      <td>male</td>\n",
       "      <td>25.00</td>\n",
       "      <td>0</td>\n",
       "      <td>0</td>\n",
       "      <td>427635</td>\n",
       "      <td>7.76</td>\n",
       "      <td>NaN</td>\n",
       "      <td>S</td>\n",
       "    </tr>\n",
       "    <tr>\n",
       "      <th>5</th>\n",
       "      <td>0</td>\n",
       "      <td>2</td>\n",
       "      <td>Sassano, Jonathan</td>\n",
       "      <td>male</td>\n",
       "      <td>35.00</td>\n",
       "      <td>0</td>\n",
       "      <td>0</td>\n",
       "      <td>13363</td>\n",
       "      <td>6.71</td>\n",
       "      <td>NaN</td>\n",
       "      <td>S</td>\n",
       "    </tr>\n",
       "    <tr>\n",
       "      <th>6</th>\n",
       "      <td>0</td>\n",
       "      <td>3</td>\n",
       "      <td>Conway, Jose</td>\n",
       "      <td>male</td>\n",
       "      <td>7.00</td>\n",
       "      <td>0</td>\n",
       "      <td>0</td>\n",
       "      <td>A/5</td>\n",
       "      <td>9.77</td>\n",
       "      <td>NaN</td>\n",
       "      <td>S</td>\n",
       "    </tr>\n",
       "    <tr>\n",
       "      <th>7</th>\n",
       "      <td>1</td>\n",
       "      <td>3</td>\n",
       "      <td>Werner, Linda</td>\n",
       "      <td>female</td>\n",
       "      <td>6.00</td>\n",
       "      <td>1</td>\n",
       "      <td>2</td>\n",
       "      <td>434426</td>\n",
       "      <td>31.50</td>\n",
       "      <td>NaN</td>\n",
       "      <td>S</td>\n",
       "    </tr>\n",
       "    <tr>\n",
       "      <th>8</th>\n",
       "      <td>0</td>\n",
       "      <td>1</td>\n",
       "      <td>Wardlaw, Michael</td>\n",
       "      <td>male</td>\n",
       "      <td>27.00</td>\n",
       "      <td>2</td>\n",
       "      <td>1</td>\n",
       "      <td>474849</td>\n",
       "      <td>73.02</td>\n",
       "      <td>A7253</td>\n",
       "      <td>S</td>\n",
       "    </tr>\n",
       "    <tr>\n",
       "      <th>9</th>\n",
       "      <td>0</td>\n",
       "      <td>2</td>\n",
       "      <td>Greigo, Rudy</td>\n",
       "      <td>male</td>\n",
       "      <td>66.00</td>\n",
       "      <td>0</td>\n",
       "      <td>0</td>\n",
       "      <td>6981</td>\n",
       "      <td>9.14</td>\n",
       "      <td>D2969</td>\n",
       "      <td>C</td>\n",
       "    </tr>\n",
       "  </tbody>\n",
       "</table>\n",
       "</div>"
      ],
      "text/plain": [
       "             Survived  Pclass               Name     Sex    Age  SibSp  Parch  \\\n",
       "PassengerId                                                                     \n",
       "0                   1       1   Oconnor, Frankie    male    NaN      2      0   \n",
       "1                   0       3        Bryan, Drew    male    NaN      0      0   \n",
       "2                   0       3     Owens, Kenneth    male   0.33      1      2   \n",
       "3                   0       3      Kramer, James    male  19.00      0      0   \n",
       "4                   1       3      Bond, Michael    male  25.00      0      0   \n",
       "5                   0       2  Sassano, Jonathan    male  35.00      0      0   \n",
       "6                   0       3       Conway, Jose    male   7.00      0      0   \n",
       "7                   1       3      Werner, Linda  female   6.00      1      2   \n",
       "8                   0       1   Wardlaw, Michael    male  27.00      2      1   \n",
       "9                   0       2       Greigo, Rudy    male  66.00      0      0   \n",
       "\n",
       "                Ticket   Fare   Cabin Embarked  \n",
       "PassengerId                                     \n",
       "0               209245  27.14  C12239        S  \n",
       "1                27323  13.35     NaN        S  \n",
       "2            CA 457703  71.29     NaN        S  \n",
       "3             A. 10866  13.04     NaN        S  \n",
       "4               427635   7.76     NaN        S  \n",
       "5                13363   6.71     NaN        S  \n",
       "6                 A/5    9.77     NaN        S  \n",
       "7               434426  31.50     NaN        S  \n",
       "8               474849  73.02   A7253        S  \n",
       "9                 6981   9.14   D2969        C  "
      ]
     },
     "execution_count": 1,
     "metadata": {},
     "output_type": "execute_result"
    }
   ],
   "source": [
    "import pandas as pd\n",
    "import matplotlib.pyplot as plt\n",
    "import seaborn as sns\n",
    "titanic_data = pd.read_csv('./train.csv', index_col='PassengerId')\n",
    "titanic_data[0:10]"
   ]
  },
  {
   "cell_type": "markdown",
   "id": "197406d6",
   "metadata": {},
   "source": [
    "можно заметить, что в колонке `Age` присутствуют значения `NaN`, от которых лучше избавиться (для примера посмотрите на возрасты первых двух пассажиров). Выберем один из способов с заменой недостающих данных на медиану. Для это вычислим медианный возраст:"
   ]
  },
  {
   "cell_type": "code",
   "execution_count": 2,
   "id": "896e34fa",
   "metadata": {},
   "outputs": [
    {
     "data": {
      "text/plain": [
       "39.0"
      ]
     },
     "execution_count": 2,
     "metadata": {},
     "output_type": "execute_result"
    }
   ],
   "source": [
    "median_age = titanic_data[:]['Age'].median()\n",
    "median_age"
   ]
  },
  {
   "cell_type": "markdown",
   "id": "33fba1dd",
   "metadata": {},
   "source": [
    "Проведём замену и проверим, что всё прошло успешно:"
   ]
  },
  {
   "cell_type": "code",
   "execution_count": 3,
   "id": "dcf7e2f6",
   "metadata": {},
   "outputs": [],
   "source": [
    "titanic_data.loc[:]['Age'].fillna(median_age, inplace=True)"
   ]
  },
  {
   "cell_type": "markdown",
   "id": "d95f0e25",
   "metadata": {},
   "source": [
    "Далее стоит обратить внимание на признак `Sex` потому что формат данных в этой колонке можно улучшить: добавим колонку `SexCode`, которая будет похожа на `Sex`, но при этом заменим `male` на 0, а `female` на 1 так как с бинарными данными легче работать, чем со строками. Для начала проверим что в таблице присутствуют только два пола:"
   ]
  },
  {
   "cell_type": "code",
   "execution_count": 4,
   "id": "da20fd30",
   "metadata": {},
   "outputs": [
    {
     "data": {
      "text/plain": [
       "Sex\n",
       "female    43886\n",
       "male      56114\n",
       "dtype: int64"
      ]
     },
     "execution_count": 4,
     "metadata": {},
     "output_type": "execute_result"
    }
   ],
   "source": [
    "titanic_data.groupby('Sex').size()"
   ]
  },
  {
   "cell_type": "markdown",
   "id": "81e9b8a9",
   "metadata": {},
   "source": [
    "Создадим переменную `sex_code`, содержащую заменённые данные:"
   ]
  },
  {
   "cell_type": "code",
   "execution_count": 5,
   "id": "1ef5b3bf",
   "metadata": {},
   "outputs": [],
   "source": [
    "def string_to_code(sex):\n",
    "    if sex == 'male':\n",
    "        return 0\n",
    "    return 1\n",
    "\n",
    "sex_code = titanic_data[:]['Sex'].apply(string_to_code)"
   ]
  },
  {
   "cell_type": "markdown",
   "id": "6dbc072d",
   "metadata": {},
   "source": [
    "Добавим её в наш датасет перед колонкой `Sex` с последующим выводом для проверки:"
   ]
  },
  {
   "cell_type": "code",
   "execution_count": 6,
   "id": "08200498",
   "metadata": {},
   "outputs": [
    {
     "data": {
      "text/html": [
       "<div>\n",
       "<style scoped>\n",
       "    .dataframe tbody tr th:only-of-type {\n",
       "        vertical-align: middle;\n",
       "    }\n",
       "\n",
       "    .dataframe tbody tr th {\n",
       "        vertical-align: top;\n",
       "    }\n",
       "\n",
       "    .dataframe thead th {\n",
       "        text-align: right;\n",
       "    }\n",
       "</style>\n",
       "<table border=\"1\" class=\"dataframe\">\n",
       "  <thead>\n",
       "    <tr style=\"text-align: right;\">\n",
       "      <th></th>\n",
       "      <th>Survived</th>\n",
       "      <th>Pclass</th>\n",
       "      <th>Name</th>\n",
       "      <th>SexCode</th>\n",
       "      <th>Sex</th>\n",
       "      <th>Age</th>\n",
       "      <th>SibSp</th>\n",
       "      <th>Parch</th>\n",
       "      <th>Ticket</th>\n",
       "      <th>Fare</th>\n",
       "      <th>Cabin</th>\n",
       "      <th>Embarked</th>\n",
       "    </tr>\n",
       "    <tr>\n",
       "      <th>PassengerId</th>\n",
       "      <th></th>\n",
       "      <th></th>\n",
       "      <th></th>\n",
       "      <th></th>\n",
       "      <th></th>\n",
       "      <th></th>\n",
       "      <th></th>\n",
       "      <th></th>\n",
       "      <th></th>\n",
       "      <th></th>\n",
       "      <th></th>\n",
       "      <th></th>\n",
       "    </tr>\n",
       "  </thead>\n",
       "  <tbody>\n",
       "    <tr>\n",
       "      <th>0</th>\n",
       "      <td>1</td>\n",
       "      <td>1</td>\n",
       "      <td>Oconnor, Frankie</td>\n",
       "      <td>0</td>\n",
       "      <td>male</td>\n",
       "      <td>39.00</td>\n",
       "      <td>2</td>\n",
       "      <td>0</td>\n",
       "      <td>209245</td>\n",
       "      <td>27.14</td>\n",
       "      <td>C12239</td>\n",
       "      <td>S</td>\n",
       "    </tr>\n",
       "    <tr>\n",
       "      <th>1</th>\n",
       "      <td>0</td>\n",
       "      <td>3</td>\n",
       "      <td>Bryan, Drew</td>\n",
       "      <td>0</td>\n",
       "      <td>male</td>\n",
       "      <td>39.00</td>\n",
       "      <td>0</td>\n",
       "      <td>0</td>\n",
       "      <td>27323</td>\n",
       "      <td>13.35</td>\n",
       "      <td>NaN</td>\n",
       "      <td>S</td>\n",
       "    </tr>\n",
       "    <tr>\n",
       "      <th>2</th>\n",
       "      <td>0</td>\n",
       "      <td>3</td>\n",
       "      <td>Owens, Kenneth</td>\n",
       "      <td>0</td>\n",
       "      <td>male</td>\n",
       "      <td>0.33</td>\n",
       "      <td>1</td>\n",
       "      <td>2</td>\n",
       "      <td>CA 457703</td>\n",
       "      <td>71.29</td>\n",
       "      <td>NaN</td>\n",
       "      <td>S</td>\n",
       "    </tr>\n",
       "    <tr>\n",
       "      <th>3</th>\n",
       "      <td>0</td>\n",
       "      <td>3</td>\n",
       "      <td>Kramer, James</td>\n",
       "      <td>0</td>\n",
       "      <td>male</td>\n",
       "      <td>19.00</td>\n",
       "      <td>0</td>\n",
       "      <td>0</td>\n",
       "      <td>A. 10866</td>\n",
       "      <td>13.04</td>\n",
       "      <td>NaN</td>\n",
       "      <td>S</td>\n",
       "    </tr>\n",
       "    <tr>\n",
       "      <th>4</th>\n",
       "      <td>1</td>\n",
       "      <td>3</td>\n",
       "      <td>Bond, Michael</td>\n",
       "      <td>0</td>\n",
       "      <td>male</td>\n",
       "      <td>25.00</td>\n",
       "      <td>0</td>\n",
       "      <td>0</td>\n",
       "      <td>427635</td>\n",
       "      <td>7.76</td>\n",
       "      <td>NaN</td>\n",
       "      <td>S</td>\n",
       "    </tr>\n",
       "    <tr>\n",
       "      <th>5</th>\n",
       "      <td>0</td>\n",
       "      <td>2</td>\n",
       "      <td>Sassano, Jonathan</td>\n",
       "      <td>0</td>\n",
       "      <td>male</td>\n",
       "      <td>35.00</td>\n",
       "      <td>0</td>\n",
       "      <td>0</td>\n",
       "      <td>13363</td>\n",
       "      <td>6.71</td>\n",
       "      <td>NaN</td>\n",
       "      <td>S</td>\n",
       "    </tr>\n",
       "    <tr>\n",
       "      <th>6</th>\n",
       "      <td>0</td>\n",
       "      <td>3</td>\n",
       "      <td>Conway, Jose</td>\n",
       "      <td>0</td>\n",
       "      <td>male</td>\n",
       "      <td>7.00</td>\n",
       "      <td>0</td>\n",
       "      <td>0</td>\n",
       "      <td>A/5</td>\n",
       "      <td>9.77</td>\n",
       "      <td>NaN</td>\n",
       "      <td>S</td>\n",
       "    </tr>\n",
       "    <tr>\n",
       "      <th>7</th>\n",
       "      <td>1</td>\n",
       "      <td>3</td>\n",
       "      <td>Werner, Linda</td>\n",
       "      <td>1</td>\n",
       "      <td>female</td>\n",
       "      <td>6.00</td>\n",
       "      <td>1</td>\n",
       "      <td>2</td>\n",
       "      <td>434426</td>\n",
       "      <td>31.50</td>\n",
       "      <td>NaN</td>\n",
       "      <td>S</td>\n",
       "    </tr>\n",
       "    <tr>\n",
       "      <th>8</th>\n",
       "      <td>0</td>\n",
       "      <td>1</td>\n",
       "      <td>Wardlaw, Michael</td>\n",
       "      <td>0</td>\n",
       "      <td>male</td>\n",
       "      <td>27.00</td>\n",
       "      <td>2</td>\n",
       "      <td>1</td>\n",
       "      <td>474849</td>\n",
       "      <td>73.02</td>\n",
       "      <td>A7253</td>\n",
       "      <td>S</td>\n",
       "    </tr>\n",
       "    <tr>\n",
       "      <th>9</th>\n",
       "      <td>0</td>\n",
       "      <td>2</td>\n",
       "      <td>Greigo, Rudy</td>\n",
       "      <td>0</td>\n",
       "      <td>male</td>\n",
       "      <td>66.00</td>\n",
       "      <td>0</td>\n",
       "      <td>0</td>\n",
       "      <td>6981</td>\n",
       "      <td>9.14</td>\n",
       "      <td>D2969</td>\n",
       "      <td>C</td>\n",
       "    </tr>\n",
       "  </tbody>\n",
       "</table>\n",
       "</div>"
      ],
      "text/plain": [
       "             Survived  Pclass               Name  SexCode     Sex    Age  \\\n",
       "PassengerId                                                                \n",
       "0                   1       1   Oconnor, Frankie        0    male  39.00   \n",
       "1                   0       3        Bryan, Drew        0    male  39.00   \n",
       "2                   0       3     Owens, Kenneth        0    male   0.33   \n",
       "3                   0       3      Kramer, James        0    male  19.00   \n",
       "4                   1       3      Bond, Michael        0    male  25.00   \n",
       "5                   0       2  Sassano, Jonathan        0    male  35.00   \n",
       "6                   0       3       Conway, Jose        0    male   7.00   \n",
       "7                   1       3      Werner, Linda        1  female   6.00   \n",
       "8                   0       1   Wardlaw, Michael        0    male  27.00   \n",
       "9                   0       2       Greigo, Rudy        0    male  66.00   \n",
       "\n",
       "             SibSp  Parch     Ticket   Fare   Cabin Embarked  \n",
       "PassengerId                                                   \n",
       "0                2      0     209245  27.14  C12239        S  \n",
       "1                0      0      27323  13.35     NaN        S  \n",
       "2                1      2  CA 457703  71.29     NaN        S  \n",
       "3                0      0   A. 10866  13.04     NaN        S  \n",
       "4                0      0     427635   7.76     NaN        S  \n",
       "5                0      0      13363   6.71     NaN        S  \n",
       "6                0      0       A/5    9.77     NaN        S  \n",
       "7                1      2     434426  31.50     NaN        S  \n",
       "8                2      1     474849  73.02   A7253        S  \n",
       "9                0      0       6981   9.14   D2969        C  "
      ]
     },
     "execution_count": 6,
     "metadata": {},
     "output_type": "execute_result"
    }
   ],
   "source": [
    "titanic_data.insert(3, 'SexCode', sex_code)\n",
    "titanic_data[:][:10]"
   ]
  },
  {
   "cell_type": "markdown",
   "id": "69aa82be",
   "metadata": {},
   "source": [
    "# 2. Анализ данных (Data exploration)\n",
    "Построим диаграмму возрастов пассажиров (значения мы проверили ранее):"
   ]
  },
  {
   "cell_type": "code",
   "execution_count": 7,
   "id": "e1e4e29c",
   "metadata": {},
   "outputs": [
    {
     "data": {
      "text/plain": [
       "<AxesSubplot:ylabel='Frequency'>"
      ]
     },
     "execution_count": 7,
     "metadata": {},
     "output_type": "execute_result"
    },
    {
     "data": {
      "image/png": "[encoded data removed]",
      "text/plain": [
       "<Figure size 1008x576 with 1 Axes>"
      ]
     },
     "metadata": {
      "needs_background": "light"
     },
     "output_type": "display_data"
    }
   ],
   "source": [
    "plt.figure(figsize=(14,8))\n",
    "plt.xticks(range(0, 90, 5)) # на оси x будут значения от 0 до 90, с шагом 5\n",
    "titanic_data['Age'].plot(kind='hist', grid=True)"
   ]
  },
  {
   "cell_type": "markdown",
   "id": "18e9b7a8",
   "metadata": {},
   "source": [
    "Можем сделать вывод, что бОльшая часть пассажиров представлена возрастной группой от 17 до 60 лет"
   ]
  },
  {
   "cell_type": "markdown",
   "id": "571b6652",
   "metadata": {},
   "source": [
    "Далее обратим внимание на валидность признаков `Survived` и `Pclass` потому что с этими данными тоже будет интересно поработать:"
   ]
  },
  {
   "cell_type": "code",
   "execution_count": 8,
   "id": "63b73221",
   "metadata": {},
   "outputs": [
    {
     "name": "stdout",
     "output_type": "stream",
     "text": [
      "Survived\n",
      "0    57226\n",
      "1    42774\n",
      "dtype: int64\n"
     ]
    },
    {
     "data": {
      "text/plain": [
       "Pclass\n",
       "1    30315\n",
       "2    28679\n",
       "3    41006\n",
       "dtype: int64"
      ]
     },
     "execution_count": 8,
     "metadata": {},
     "output_type": "execute_result"
    }
   ],
   "source": [
    "print(titanic_data.groupby('Survived').size())\n",
    "titanic_data.groupby('Pclass').size()"
   ]
  },
  {
   "cell_type": "markdown",
   "id": "fdab7f02",
   "metadata": {},
   "source": [
    "`Survived = 1` означает что пассажир выжил, `0` - нет. В данном случае поля валидны, и теперь посмотрим зависимость выживаемости от класса номера на борту:"
   ]
  },
  {
   "cell_type": "code",
   "execution_count": 9,
   "id": "e12f7335",
   "metadata": {},
   "outputs": [
    {
     "data": {
      "text/plain": [
       "<AxesSubplot:xlabel='Pclass', ylabel='Count'>"
      ]
     },
     "execution_count": 9,
     "metadata": {},
     "output_type": "execute_result"
    },
    {
     "data": {
      "image/png": "[encoded data removed]",
      "text/plain": [
       "<Figure size 864x432 with 1 Axes>"
      ]
     },
     "metadata": {
      "needs_background": "light"
     },
     "output_type": "display_data"
    }
   ],
   "source": [
    "plt.figure(figsize=(12,6))\n",
    "plt.xticks(range(1,4))\n",
    "sns.histplot(data=titanic_data, x=\"Pclass\", hue=\"Survived\", fill=True, legend=True, shrink=10, multiple=\"stack\")"
   ]
  },
  {
   "cell_type": "markdown",
   "id": "1ab10471",
   "metadata": {},
   "source": [
    "Больше всего пассажиров путешествовало в третьем классе, и, судя по гистограмме, в этом классе меньше всего выживших (в процентном соотношении). Лучше всего состоит обстановка в первом классе: в нём выживших больше половины, а во втором - примерно половина. Если обратиться к википедии, будет ясна взаимосвязь: каюты пассажиров третьего класса находились ниже остальных, и были затоплены в первую очередь.\n",
    "\n",
    "Посмотрим на зависимость выживаемости от количества родственников. Сначала, как обычно, провалидируем данные:"
   ]
  },
  {
   "cell_type": "code",
   "execution_count": 10,
   "id": "20b8c425",
   "metadata": {},
   "outputs": [
    {
     "data": {
      "text/plain": [
       "SibSp\n",
       "0    73308\n",
       "1    19758\n",
       "2     3703\n",
       "3     1635\n",
       "4     1168\n",
       "5      132\n",
       "8      296\n",
       "dtype: int64"
      ]
     },
     "execution_count": 10,
     "metadata": {},
     "output_type": "execute_result"
    }
   ],
   "source": [
    "titanic_data.groupby('SibSp').size()"
   ]
  },
  {
   "cell_type": "markdown",
   "id": "2f4fcaf4",
   "metadata": {},
   "source": [
    "для удобства создадим одну колонку `Relatives`, в которой будут содержаться данные по братьям, мужьям, жёнам (`SibSp`) плюс по детям с родителями (`Parch`) и посмотри на результат:"
   ]
  },
  {
   "cell_type": "code",
   "execution_count": 11,
   "id": "c5b7347e",
   "metadata": {},
   "outputs": [
    {
     "data": {
      "text/plain": [
       "<AxesSubplot:xlabel='Relatives', ylabel='Count'>"
      ]
     },
     "execution_count": 11,
     "metadata": {},
     "output_type": "execute_result"
    },
    {
     "data": {
      "image/png": "[encoded data removed]",
      "text/plain": [
       "<Figure size 1152x720 with 1 Axes>"
      ]
     },
     "metadata": {
      "needs_background": "light"
     },
     "output_type": "display_data"
    }
   ],
   "source": [
    "plt.figure(figsize=(16,10))\n",
    "plt.xticks(range(0,11))\n",
    "titanic_data['Relatives'] = titanic_data['SibSp'] + titanic_data['Parch']\n",
    "sns.histplot(data=titanic_data, x=\"Relatives\", hue=\"Survived\", fill=True, legend=True, shrink=12, multiple=\"stack\")"
   ]
  },
  {
   "cell_type": "markdown",
   "id": "54baa429",
   "metadata": {},
   "source": [
    "Из этой гистограммы видно, что если у пассажира не было родственников или их было более двух, то шанс выживания уменьшался"
   ]
  },
  {
   "cell_type": "markdown",
   "id": "81bfa28b",
   "metadata": {},
   "source": [
    "Посмотрим на зависимость выживаемости от того, в каком порту человек зашёл на корабль:"
   ]
  },
  {
   "cell_type": "code",
   "execution_count": 12,
   "id": "781b9f19",
   "metadata": {},
   "outputs": [
    {
     "data": {
      "text/plain": [
       "<seaborn.axisgrid.FacetGrid at 0x1db03eae8f0>"
      ]
     },
     "execution_count": 12,
     "metadata": {},
     "output_type": "execute_result"
    },
    {
     "data": {
      "image/png": "[encoded data removed]",
      "text/plain": [
       "<Figure size 360x360 with 1 Axes>"
      ]
     },
     "metadata": {
      "needs_background": "light"
     },
     "output_type": "display_data"
    }
   ],
   "source": [
    "sns.catplot(data=titanic_data, x='Embarked', y='Survived', kind='bar')"
   ]
  },
  {
   "cell_type": "markdown",
   "id": "8c6543b6",
   "metadata": {},
   "source": [
    "Меньшую выживаемость показали пассажиры из города `S` (Southampton), далее `Q` (Queenstown) и лучший результат у `C` (Cherbourg). По этим данным у меня была гипотеза, что сначала купили билеты и зашли на Титаник люди из Cherbourg (приобрели билеты первого класса), затем Queenstown (взяли класс похуже), и, наконец, Southampton (приобрели оставшиеся билеты), но по факту судно следовало по маршруту Southampton-> Cherbourg -> Queenstown -> New-York, а это означает, что гипотеза даже не близка к истине"
   ]
  },
  {
   "cell_type": "markdown",
   "id": "e6ce2f91",
   "metadata": {},
   "source": [
    "# 3. Итог (Summary)\n",
    "Проанализировав датасет о пассажирах Титаника, можно сделать вывод, что, если бы вы захотели переплыть Атлантику в 1912 году на рассматриваемом судне и купили бы билет в первый класс, взяли бы с собой 1-2 родственника и являлись бы женщиной, ваш шанс выживания стремился бы к максимально возможному (в данной ситуации).\n",
    "Что можно было сделать ещё:\n",
    "1. Провести более глубокую чистку данных и решить, как заполнить `NaN`-значения в колонке `Age`\n",
    "2. Проанализировать зависимость выживаемости от возраста пассажира (в процентах)\n",
    "\n",
    "Спасибо! :)"
   ]
  }
 ],
 "metadata": {
  "kernelspec": {
   "display_name": "Python 3 (ipykernel)",
   "language": "python",
   "name": "python3"
  },
  "language_info": {
   "codemirror_mode": {
    "name": "ipython",
    "version": 3
   },
   "file_extension": ".py",
   "mimetype": "text/x-python",
   "name": "python",
   "nbconvert_exporter": "python",
   "pygments_lexer": "ipython3",
   "version": "3.10.1"
  }
 },
 "nbformat": 4,
 "nbformat_minor": 5
}
